{
 "cells": [
  {
   "cell_type": "markdown",
   "metadata": {},
   "source": [
    "## Array Manipulation\n",
    "___\n"
   ]
  },
  {
   "cell_type": "markdown",
   "metadata": {},
   "source": [
    "***Contents:***\n",
    "- Addind and Removing elements\n",
    "- Combining Arrays\n",
    "- Splitting Arrays"
   ]
  },
  {
   "cell_type": "code",
   "execution_count": 21,
   "metadata": {},
   "outputs": [],
   "source": [
    "import numpy as np"
   ]
  },
  {
   "cell_type": "markdown",
   "metadata": {},
   "source": [
    "### Addind and Removing elements:\n",
    " \n",
    "<font color=#CA7747>**np.append(array, values, axis)**</font> $\\Rightarrow$ Return a new array with values added to the array along the axis.\n",
    "\n",
    "<font color=#CA7747>**np.insert(array, index, values, axis)**</font> $\\Rightarrow$ Return a new array with values inserted at index to the array along axis.\n",
    "\n",
    "<font color=#CA7747>**np.resize(array, new shape)**</font> $\\Rightarrow$ Resize to new array of new shape (tuple).\n",
    "\n",
    "<font color=#CA7747>**np.delete(array, index, axis)**</font> $\\Rightarrow$ Delete the values at index along the axis."
   ]
  },
  {
   "cell_type": "code",
   "execution_count": 22,
   "metadata": {},
   "outputs": [
    {
     "name": "stdout",
     "output_type": "stream",
     "text": [
      "Original Array-> \t\t[0, 4, 1, 2] \t\tID: 1728655843696\n",
      "After appending 12-> \t\t[0, 4, 1, 2, 12] \tID: 1728655726600\n",
      "After appending 13 and 14-> \t[0, 4, 1, 2, 13, 14] \tID: 1728655726536\n",
      "After insertion 10 at index 2-> [0, 4, 10, 1, 2] \tID: 1728655724936\n",
      "After resizing Array-> \t\t[[0, 4], [1, 2]] \tID: 1728655764040\n",
      "After deleting index 1-> \t[1, 2, 4] \t\tID: 1728655587336\n",
      "After deleting index 1,3-> \t[1, 2] \t\t\tID: 1728655764808\n",
      "Original Array-> \t\t[0, 4, 1, 2] \t\tID: 1728655764104\n"
     ]
    }
   ],
   "source": [
    "arr1d = np.random.randint(9, size=4)\n",
    "arr2d = np.random.randint(9, size=(2,2))\n",
    "\n",
    "a = np.append(arr1d, 12).tolist()\n",
    "b = np.append(arr1d, (13, 14)).tolist()\n",
    "c = np.insert(arr1d, 2, 10).tolist()\n",
    "d = np.resize(arr1d, (2, 2)).tolist()\n",
    "e = np.delete(arr2d, 1).tolist()\n",
    "f = np.delete(arr2d, (1, 3)).tolist()\n",
    "\n",
    "print(f\"Original Array-> \\t\\t{arr1d.tolist()} \\t\\tID: {id(arr1d)}\")\n",
    "print(f\"After appending 12-> \\t\\t{a} \\tID: {id(a)}\")\n",
    "print(f\"After appending 13 and 14-> \\t{b} \\tID: {id(b)}\")\n",
    "print(f\"After insertion 10 at index 2-> {c} \\tID: {id(c)}\")\n",
    "print(f\"After resizing Array-> \\t\\t{d} \\tID: {id(d)}\")\n",
    "print(f\"After deleting index 1-> \\t{e} \\t\\tID: {id(e)}\")\n",
    "print(f\"After deleting index 1,3-> \\t{f} \\t\\t\\tID: {id(f)}\")\n",
    "print(f\"Original Array-> \\t\\t{arr1d.tolist()} \\t\\tID: {id(arr1d.tolist())}\")"
   ]
  },
  {
   "cell_type": "code",
   "execution_count": 10,
   "metadata": {},
   "outputs": [
    {
     "name": "stdout",
     "output_type": "stream",
     "text": [
      "Original Array-> \t\t[[8, 4], [1, 2]] \tID: 1728655885696\n",
      "After appending 12-> \t\t[8, 4, 1, 2, 12] \tID: 1728650709384\n",
      "After appending 13 and 14-> \t[8, 4, 1, 2, 13, 14] \tID: 1728650708808\n",
      "After insertion 10 at index 2-> [8, 4, 10, 1, 2] \tID: 1728650709192\n",
      "After resizing Array-> \t\t[[8], [4], [1], [2]] \tID: 1728650797448\n",
      "After deleting index 1-> \t[8, 1, 2] \t\tID: 1728655763592\n",
      "After deleting index 1,3-> \t[8, 1] \t\t\tID: 1728655764104\n",
      "Original Array-> \t\t[[8, 4], [1, 2]] \tID: 1728655763656\n"
     ]
    }
   ],
   "source": [
    "arr2d = np.random.randint(9, size=(2, 2))\n",
    "a = np.append(arr2d, 12).tolist()\n",
    "b = np.append(arr2d, (13, 14)).tolist()\n",
    "c = np.insert(arr2d, 2, 10).tolist()\n",
    "d = np.resize(arr2d, (4, 1)).tolist()\n",
    "e = np.delete(arr2d, 1).tolist()\n",
    "f = np.delete(arr2d, (1, 3)).tolist()\n",
    "print(f\"Original Array-> \\t\\t{arr2d.tolist()} \\tID: {id(arr2d)}\")\n",
    "print(f\"After appending 12-> \\t\\t{a} \\tID: {id(a)}\")\n",
    "print(f\"After appending 13 and 14-> \\t{b} \\tID: {id(b)}\")\n",
    "print(f\"After insertion 10 at index 2-> {c} \\tID: {id(c)}\")\n",
    "print(f\"After resizing Array-> \\t\\t{d} \\tID: {id(d)}\")\n",
    "print(f\"After deleting index 1-> \\t{e} \\t\\tID: {id(e)}\")\n",
    "print(f\"After deleting index 1,3-> \\t{f} \\t\\t\\tID: {id(f)}\")\n",
    "print(f\"Original Array-> \\t\\t{arr2d.tolist()} \\tID: {id(arr2d.tolist())}\")"
   ]
  },
  {
   "cell_type": "markdown",
   "metadata": {},
   "source": [
    "### Combining Arrays:\n",
    " \n",
    "<font color=#CA7747>**np.concatenate((a1, a2, ...),  axis)**</font> $\\Rightarrow$ Join a sequence of arrays along an existing axis.\n",
    "\n",
    "<font color=#CA7747>**np.vstack((a1, a2, ...))**</font> $\\Rightarrow$ Stack arrays in sequence vertically (row wise).\n",
    "\n",
    "<font color=#CA7747>**np.hstack((a1, a2, ...))**</font> $\\Rightarrow$ Stack arrays in sequence horizontally (coloumn wise).\n"
   ]
  },
  {
   "cell_type": "code",
   "execution_count": 24,
   "metadata": {},
   "outputs": [
    {
     "name": "stdout",
     "output_type": "stream",
     "text": [
      "Original Array1-> \t\t[[4, 5, 7]] \t\tID: 1728655888176\n",
      "Original Array2-> \t\t[[3, 2, 5]] \t\tID: 1728655885696\n",
      "After concatenating-> \t[[4, 5, 7], [3, 2, 5]] \t\tID: 1728655733512\n",
      "After vstacking-> \t[[4, 5, 7], [3, 2, 5]] \t\tID: 1728655734728\n",
      "After hstacking-> \t[[4, 5, 7, 3, 2, 5]] \t\tID: 1728655726856\n",
      "After hstacking-> \t[[4, 3], [5, 2], [7, 5]] \tID: 1728655694664\n"
     ]
    }
   ],
   "source": [
    "a1 = np.random.randint(9, size=(1, 3))\n",
    "a2 = np.random.randint(9, size=(1, 3))\n",
    "\n",
    "print(f\"Original Array1-> \\t\\t{a1.tolist()} \\t\\tID: {id(a1)}\")\n",
    "print(f\"Original Array2-> \\t\\t{a2.tolist()} \\t\\tID: {id(a2)}\")\n",
    "\n",
    "a  = np.concatenate((a1, a2)).tolist()\n",
    "b  = np.vstack((a1, a2)).tolist()\n",
    "c  = np.hstack((a1, a2)).tolist()\n",
    "d  = np.hstack((np.reshape(a1, a1.shape[::-1]), np.reshape(a2, a2.shape[::-1]))).tolist()\n",
    "\n",
    "print(f\"After concatenating-> \\t{a} \\t\\tID: {id(a)}\")\n",
    "print(f\"After vstacking-> \\t{b} \\t\\tID: {id(b)}\")\n",
    "print(f\"After hstacking-> \\t{c} \\t\\tID: {id(c)}\")\n",
    "print(f\"After hstacking-> \\t{d} \\tID: {id(d)}\")"
   ]
  },
  {
   "cell_type": "markdown",
   "metadata": {},
   "source": [
    "### Splitting Arrays:\n",
    " \n",
    "<font color=#CA7747>**np.split(ary, indices_or_sections, axis=0)**</font> $\\Rightarrow$ Split an array into multiple sub-arrays.\n",
    "\n",
    "<font color=#CA7747>**np.array_split(ary, indices_or_sections, axis=0)**</font> $\\Rightarrow$ Split an array into multiple sub-arrays.\n",
    "\n",
    "<font color=#CA7747>**np.hsplit(ary, indices_or_sections)**</font> $\\Rightarrow$ Split an array into multiple sub-arrays horizontally (column-wise).\n"
   ]
  },
  {
   "cell_type": "code",
   "execution_count": 48,
   "metadata": {},
   "outputs": [
    {
     "name": "stdout",
     "output_type": "stream",
     "text": [
      "Original Array-> \t\t[6, 3, 2, 7, 8, 0, 1, 4, 3, 2] \t\t\t\t\t\t\t\tID: 1728656068400\n",
      "After spliting into 5 parts-> \t[array([6, 3]), array([2, 7]), array([8, 0]), array([1, 4]), array([3, 2])] \t\tID: 1728641651976\n",
      "After spliting into 2 parts-> \t[array([6, 3, 2, 7, 8]), array([0, 1, 4, 3, 2])] \t\t\t\t\tID: 1728655980424\n"
     ]
    }
   ],
   "source": [
    "arr1d = np.random.randint(9, size=10)\n",
    "\n",
    "print(f\"Original Array-> \\t\\t{arr1d.tolist()} \\t\\t\\t\\t\\t\\t\\t\\tID: {id(arr1d)}\")\n",
    "\n",
    "a =  np.split(arr1d, 5)\n",
    "b = np.hsplit(arr1d, 2)\n",
    "\n",
    "# np.split(arr1d, 6) # Will give an error since there is no way to equally divide 10 elements into 6 arrays\n",
    "\n",
    "print(f\"After spliting into 5 parts-> \\t{a} \\t\\tID: {id(a)}\")\n",
    "print(f\"After spliting into 2 parts-> \\t{b} \\t\\t\\t\\t\\tID: {id(b)}\")"
   ]
  },
  {
   "cell_type": "markdown",
   "metadata": {},
   "source": [
    "#### Diffrence between <font color=#CA7747>np.split</font> and <font color=#CA7747>np.array_split</font>:    \n",
    "**For an array of length `L` that should be split into n sections,**\n",
    "- np.array_split returns L % n sub-arrays of size L / n + 1 and the rest of size L / n.\n",
    "- np.split returns If L % n != 0, then ERROR! Else n sub arrays of size L / n."
   ]
  },
  {
   "cell_type": "code",
   "execution_count": 50,
   "metadata": {},
   "outputs": [
    {
     "name": "stdout",
     "output_type": "stream",
     "text": [
      "Original Array-> \t\t[7, 7, 0, 2, 4, 8, 5, 2, 3, 1] \t\t\t\t\t\t\t\tID: 1728656068400\n",
      "After spliting into 3 parts-> \t[array([7, 7, 0, 2]), array([4, 8, 5]), array([2, 3, 1])] \t\t\t\tID: 1728676438216\n",
      "After spliting into 7 parts-> \t[array([7, 7]), array([0, 2]), array([4, 8]), array([5, 2]), array([3]), array([1])] \tID: 1728675635976\n"
     ]
    }
   ],
   "source": [
    "arr1d = np.random.randint(9, size=10)\n",
    "\n",
    "print(f\"Original Array-> \\t\\t{arr1d.tolist()} \\t\\t\\t\\t\\t\\t\\t\\tID: {id(arr1d)}\")\n",
    "\n",
    "a = np.array_split(arr1d, 3)    # Here n = 3 and L = 10 so first( since 10 % 3 = 1) sub array would be of size 10 / 3 + 1 = 4 and rest will we of size 10 / 3 \n",
    "b = np.array_split(arr1d, 6)\n",
    "\n",
    "print(f\"After spliting into 3 parts-> \\t{a} \\t\\t\\t\\tID: {id(a)}\")\n",
    "print(f\"After spliting into 7 parts-> \\t{b} \\tID: {id(b)}\")"
   ]
  },
  {
   "cell_type": "code",
   "execution_count": null,
   "metadata": {},
   "outputs": [],
   "source": []
  }
 ],
 "metadata": {
  "kernelspec": {
   "display_name": "Python 3",
   "language": "python",
   "name": "python3"
  },
  "language_info": {
   "codemirror_mode": {
    "name": "ipython",
    "version": 3
   },
   "file_extension": ".py",
   "mimetype": "text/x-python",
   "name": "python",
   "nbconvert_exporter": "python",
   "pygments_lexer": "ipython3",
   "version": "3.7.1"
  }
 },
 "nbformat": 4,
 "nbformat_minor": 2
}
