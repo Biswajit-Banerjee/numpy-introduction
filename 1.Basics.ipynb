{
 "cells": [
  {
   "cell_type": "markdown",
   "metadata": {},
   "source": [
    "# <font color=#4FB7C9>NumPy</font>\n"
   ]
  },
  {
   "cell_type": "markdown",
   "metadata": {},
   "source": [
    "## Basics\n",
    "___\n",
    "***Contents:***\n",
    "- Placeholders"
   ]
  },
  {
   "cell_type": "code",
   "execution_count": 1,
   "metadata": {},
   "outputs": [],
   "source": [
    "import numpy as np"
   ]
  },
  {
   "cell_type": "markdown",
   "metadata": {},
   "source": [
    "<font color=#CA7747>**np.array(Iteratable)**</font> $\\Rightarrow$ Creates a 1D or multi-dimentional array depending on the parameter.\n",
    "\n",
    "<font color=#CA7747>**np.arange(Start, End, Step)**</font> $\\Rightarrow$ Creats a ranged array starting from start till end with step."
   ]
  },
  {
   "cell_type": "code",
   "execution_count": 2,
   "metadata": {},
   "outputs": [
    {
     "name": "stdout",
     "output_type": "stream",
     "text": [
      "1. [1 2 3]\n",
      "2. [[1, 2, 3], [4, 5, 6], [7, 8, 9]]\n",
      "3. [1 3 5 7 9]\n"
     ]
    }
   ],
   "source": [
    "print(\"1.\", np.array((1,2,3)))\n",
    "print(\"2.\", np.array([(1,2,3),(4,5,6),(7,8,9)]).tolist())\n",
    "print(\"3.\", np.arange(1, 10, 2))"
   ]
  },
  {
   "cell_type": "markdown",
   "metadata": {},
   "source": [
    "### Placeholders:\n",
    "\n",
    "<font color=#CA7747>**np.linspace(Start, End, Divisions)**</font> $\\Rightarrow$ Divide equally the interval between start and end.\n",
    "\n",
    "<font color=#CA7747>**np.zeros((Row, Column))**</font> $\\Rightarrow$ Creats an array filled with zeros.\n",
    "\n",
    "<font color=#CA7747>**np.ones((Row, Column))**</font> $\\Rightarrow$ Creats an array filed with ones.\n",
    "\n",
    "<font color=#CA7747>**np.random.random((Row, Column))**</font> $\\Rightarrow$ Creats a random array.\n",
    "\n",
    "<font color=#CA7747>**np.random.empty((Row, Column))**</font> $\\Rightarrow$ Creats a emepty array."
   ]
  },
  {
   "cell_type": "code",
   "execution_count": 3,
   "metadata": {},
   "outputs": [
    {
     "name": "stdout",
     "output_type": "stream",
     "text": [
      "1. [1.  1.8 2.6 3.4 4.2 5. ] \t\tID: 2473248103040\n",
      "2. [[0.0, 0.0], [0.0, 0.0]] \t\tID: 2473248170120\n",
      "3. [[1.0, 1.0], [1.0, 1.0]] \t\tID: 2473244361096\n",
      "4. [[0.898, 0.775], [0.21, 0.185]] \tID: 2473248170120\n",
      "5. [[0.963, 0.834], [0.976, 0.832]] \tID: 2473243211464\n"
     ]
    }
   ],
   "source": [
    "print(f\"1. {np.linspace(1,5,6)} \\t\\tID: {id(np.linspace(1,5,6))}\")\n",
    "print(f\"2. {np.zeros((2,2)).tolist()} \\t\\tID: {id(np.zeros((2,2)).tolist())}\") #tolist converts array to a list , just to print in a single line\n",
    "print(f\"3. {np.ones((2,2)).tolist()} \\t\\tID: {id(np.ones((2,2)).tolist())}\")\n",
    "print(f\"4. {np.around(np.random.random((2, 2)), 3).tolist()} \\tID: {id(np.around(np.random.random((2,2)), 3).tolist())}\") #around to round off till 3rd decimals\n",
    "print(f\"5. {np.around(np.empty((2, 2)), 3).tolist()} \\tID: {id(np.around(np.empty((2,2)), 3).tolist())}\")"
   ]
  },
  {
   "cell_type": "markdown",
   "metadata": {},
   "source": [
    "## ARRAY\n",
    "___\n",
    "\n",
    "***Contents:***\n",
    "- Array Properties\n",
    "- Copying and Sorting\n",
    "\n"
   ]
  },
  {
   "cell_type": "markdown",
   "metadata": {},
   "source": [
    "\n",
    "### Array Properties:\n",
    "\n",
    "<font color=#CA7747>**array.shape**</font> $\\Rightarrow$ Dimensions (Rows, Columns)\n",
    "\n",
    "<font color=#CA7747>**len(array)**</font> $\\Rightarrow$ Length of the array\n",
    "\n",
    "<font color=#CA7747>**array.ndim**</font> $\\Rightarrow$ Number of dimentions\n",
    "\n",
    "<font color=#CA7747>**array.size**</font> $\\Rightarrow$ Number of array elements\n",
    "\n",
    "<font color=#CA7747>**array.dtype**</font> $\\Rightarrow$ Data Type\n",
    "\n",
    "<font color=#CA7747>**array.astype(type)**</font> $\\Rightarrow$ Convert to Data Type\n",
    "\n",
    "<font color=#CA7747>**type(array)**</font> $\\Rightarrow$ Data Type\n"
   ]
  },
  {
   "cell_type": "code",
   "execution_count": 4,
   "metadata": {},
   "outputs": [
    {
     "name": "stdout",
     "output_type": "stream",
     "text": [
      "The array is-> [[0.8, 2.62, 1.51], [1.5, 3.43, 1.5], [2.74, 1.21, 1.56]]\n",
      "Array shape is-> (3, 3)\n",
      "Array lenght is-> 3\n",
      "Number of Array dimentions are-> 2\n",
      "Array size is-> 9\n",
      "Array elements are of type-> float64\n",
      "Array is-> <class 'numpy.ndarray'>\n",
      "Converting it from float64 to int32-> [[0, 2, 1], [1, 3, 1], [2, 1, 1]]\n"
     ]
    }
   ],
   "source": [
    "arr = np.random.random((3,3)) * 4\n",
    "print(f\"The array is-> {np.around(arr, 2).tolist()}\")\n",
    "print(f\"Array shape is-> {arr.shape}\")\n",
    "print(f\"Array lenght is-> {len(arr)}\")\n",
    "print(f\"Number of Array dimentions are-> {arr.ndim}\")\n",
    "print(f\"Array size is-> {arr.size}\")\n",
    "print(f\"Array elements are of type-> {arr.dtype}\")\n",
    "print(f\"Array is-> {type(arr)}\")\n",
    "print(f\"Converting it from {arr.dtype} to int32-> {arr.astype('int32').tolist()}\")"
   ]
  },
  {
   "cell_type": "markdown",
   "metadata": {},
   "source": [
    "### Copying and Sorting:\n",
    "\n",
    "<font color=#CA7747>**array.copy()**</font> $\\Rightarrow$ Returns a copy of array\n",
    "\n",
    "<font color=#CA7747>**array.sort(Axis)**</font> $\\Rightarrow$ Sort Axis of the array\n"
   ]
  },
  {
   "cell_type": "code",
   "execution_count": 5,
   "metadata": {
    "scrolled": false
   },
   "outputs": [
    {
     "name": "stdout",
     "output_type": "stream",
     "text": [
      "[0 2 7 7 3] \n",
      "\n",
      "[0 2 3 7 7] \n",
      "\n"
     ]
    }
   ],
   "source": [
    "arr1d = np.random.randint(10, size=5)\n",
    "print(arr1d, '\\n')\n",
    "arr1d.sort()\n",
    "print(arr1d, '\\n')"
   ]
  },
  {
   "cell_type": "code",
   "execution_count": 59,
   "metadata": {},
   "outputs": [
    {
     "name": "stdout",
     "output_type": "stream",
     "text": [
      "[[0 6 0]\n",
      " [4 9 8]\n",
      " [8 1 9]] \n",
      "\n",
      "--------- AFTER SORTING 2D ARRAY ---------\n",
      "[[0 1 0]\n",
      " [4 6 8]\n",
      " [8 9 9]] \n",
      "\n",
      "[[0 0 6]\n",
      " [4 8 9]\n",
      " [1 8 9]] \n",
      "\n",
      "---------------------------------------- \n",
      "\n"
     ]
    }
   ],
   "source": [
    "arr2d = np.random.randint(10, size=(3, 3))\n",
    "\n",
    "\n",
    "print(arr2d, '\\n')\n",
    "print(9*'-','AFTER SORTING 2D ARRAY',9*'-')\n",
    "arr2d2 = arr2d.copy()\n",
    "arr2d.sort(axis=0)\n",
    "arr2d2.sort(axis=1)\n",
    "print(arr2d, '\\n')\n",
    "print(arr2d2, '\\n')\n",
    "print(40*('-'), '\\n')"
   ]
  },
  {
   "cell_type": "code",
   "execution_count": 61,
   "metadata": {},
   "outputs": [
    {
     "name": "stdout",
     "output_type": "stream",
     "text": [
      "[[[1 2]\n",
      "  [3 2]]\n",
      "\n",
      " [[2 7]\n",
      "  [7 0]]] \n",
      "\n",
      "--------- AFTER SORTING 3D ARRAY ---------\n",
      "[[[1 2]\n",
      "  [3 0]]\n",
      "\n",
      " [[2 7]\n",
      "  [7 2]]] \n",
      "\n",
      "\n",
      "[[[1 2]\n",
      "  [3 2]]\n",
      "\n",
      " [[2 0]\n",
      "  [7 7]]] \n",
      "\n",
      "\n",
      "[[[1 2]\n",
      "  [2 3]]\n",
      "\n",
      " [[2 7]\n",
      "  [0 7]]] \n",
      "\n",
      "\n",
      "---------------------------------------- \n",
      "\n"
     ]
    }
   ],
   "source": [
    "arr3d = np.random.randint(10, size=(2, 2, 2))\n",
    "print(arr3d, '\\n')\n",
    "print(9*'-','AFTER SORTING 3D ARRAY',9*'-')\n",
    "arr3d1 = arr3d.copy()\n",
    "arr3d2 = arr3d.copy()\n",
    "arr3d.sort(axis=0)\n",
    "arr3d1.sort(axis=1)\n",
    "arr3d2.sort(axis=2)\n",
    "print(arr3d, '\\n\\n')\n",
    "print(arr3d1, '\\n\\n')\n",
    "print(arr3d2, '\\n\\n')\n",
    "print(40*('-'), '\\n')\n"
   ]
  },
  {
   "cell_type": "code",
   "execution_count": null,
   "metadata": {},
   "outputs": [],
   "source": []
  },
  {
   "cell_type": "code",
   "execution_count": null,
   "metadata": {},
   "outputs": [],
   "source": []
  },
  {
   "cell_type": "code",
   "execution_count": null,
   "metadata": {},
   "outputs": [],
   "source": []
  },
  {
   "cell_type": "code",
   "execution_count": null,
   "metadata": {},
   "outputs": [],
   "source": []
  },
  {
   "cell_type": "code",
   "execution_count": null,
   "metadata": {},
   "outputs": [],
   "source": []
  }
 ],
 "metadata": {
  "kernelspec": {
   "display_name": "Python 3",
   "language": "python",
   "name": "python3"
  },
  "language_info": {
   "codemirror_mode": {
    "name": "ipython",
    "version": 3
   },
   "file_extension": ".py",
   "mimetype": "text/x-python",
   "name": "python",
   "nbconvert_exporter": "python",
   "pygments_lexer": "ipython3",
   "version": "3.7.1"
  }
 },
 "nbformat": 4,
 "nbformat_minor": 2
}
